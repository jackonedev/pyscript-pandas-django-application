{
 "cells": [
  {
   "cell_type": "code",
   "execution_count": 2,
   "metadata": {},
   "outputs": [],
   "source": [
    "import pandas as pd"
   ]
  },
  {
   "cell_type": "code",
   "execution_count": 3,
   "metadata": {},
   "outputs": [],
   "source": [
    "## ID_1.ipynb - TEST para crear \n",
    "\n",
    "producto = {\n",
    "    'id': \"1\",\n",
    "    'title': \"objeto.querySelector('h5').textContent\",\n",
    "    'precio': \"objeto.querySelector('p').textContent\",\n",
    "    'cantidad': 1\n",
    "}"
   ]
  },
  {
   "cell_type": "code",
   "execution_count": 4,
   "metadata": {},
   "outputs": [
    {
     "data": {
      "text/html": [
       "<div>\n",
       "<style scoped>\n",
       "    .dataframe tbody tr th:only-of-type {\n",
       "        vertical-align: middle;\n",
       "    }\n",
       "\n",
       "    .dataframe tbody tr th {\n",
       "        vertical-align: top;\n",
       "    }\n",
       "\n",
       "    .dataframe thead th {\n",
       "        text-align: right;\n",
       "    }\n",
       "</style>\n",
       "<table border=\"1\" class=\"dataframe\">\n",
       "  <thead>\n",
       "    <tr style=\"text-align: right;\">\n",
       "      <th></th>\n",
       "      <th>id</th>\n",
       "      <th>title</th>\n",
       "      <th>precio</th>\n",
       "      <th>cantidad</th>\n",
       "    </tr>\n",
       "  </thead>\n",
       "  <tbody>\n",
       "  </tbody>\n",
       "</table>\n",
       "</div>"
      ],
      "text/plain": [
       "Empty DataFrame\n",
       "Columns: [id, title, precio, cantidad]\n",
       "Index: []"
      ]
     },
     "execution_count": 4,
     "metadata": {},
     "output_type": "execute_result"
    }
   ],
   "source": [
    "Carrito = pd.DataFrame()\n",
    "Carrito = pd.concat([Carrito, pd.DataFrame(columns=producto.keys())])\n",
    "Carrito"
   ]
  },
  {
   "cell_type": "code",
   "execution_count": 14,
   "metadata": {},
   "outputs": [
    {
     "data": {
      "text/plain": [
       "'id'"
      ]
     },
     "execution_count": 14,
     "metadata": {},
     "output_type": "execute_result"
    }
   ],
   "source": [
    "list(producto.keys())[0]"
   ]
  },
  {
   "cell_type": "code",
   "execution_count": 9,
   "metadata": {},
   "outputs": [
    {
     "name": "stdout",
     "output_type": "stream",
     "text": [
      "2,3,...) sumamos 1 a Carrito.cantidad y se lo asignamos a producto.cantidad\n"
     ]
    },
    {
     "data": {
      "text/html": [
       "<div>\n",
       "<style scoped>\n",
       "    .dataframe tbody tr th:only-of-type {\n",
       "        vertical-align: middle;\n",
       "    }\n",
       "\n",
       "    .dataframe tbody tr th {\n",
       "        vertical-align: top;\n",
       "    }\n",
       "\n",
       "    .dataframe thead th {\n",
       "        text-align: right;\n",
       "    }\n",
       "</style>\n",
       "<table border=\"1\" class=\"dataframe\">\n",
       "  <thead>\n",
       "    <tr style=\"text-align: right;\">\n",
       "      <th></th>\n",
       "      <th>id</th>\n",
       "      <th>title</th>\n",
       "      <th>precio</th>\n",
       "      <th>cantidad</th>\n",
       "    </tr>\n",
       "  </thead>\n",
       "  <tbody>\n",
       "    <tr>\n",
       "      <th>1</th>\n",
       "      <td>1</td>\n",
       "      <td>objeto.querySelector('h5').textContent</td>\n",
       "      <td>objeto.querySelector('p').textContent</td>\n",
       "      <td>6</td>\n",
       "    </tr>\n",
       "  </tbody>\n",
       "</table>\n",
       "</div>"
      ],
      "text/plain": [
       "  id                                   title  \\\n",
       "1  1  objeto.querySelector('h5').textContent   \n",
       "\n",
       "                                  precio cantidad  \n",
       "1  objeto.querySelector('p').textContent        6  "
      ]
     },
     "metadata": {},
     "output_type": "display_data"
    },
    {
     "data": {
      "text/plain": [
       "{'id': '1',\n",
       " 'title': \"objeto.querySelector('h5').textContent\",\n",
       " 'precio': \"objeto.querySelector('p').textContent\",\n",
       " 'cantidad': 6}"
      ]
     },
     "execution_count": 9,
     "metadata": {},
     "output_type": "execute_result"
    }
   ],
   "source": [
    "#create a function to join a dict and a dataframe for a single row\n",
    "\n",
    "\n",
    "\n",
    "def add_row(df, dict):\n",
    "    # Create a series from the dictionary\n",
    "    row = pd.DataFrame(dict, index=[dict['id']])\n",
    "    # Concat the series to the dataframe\n",
    "    df = pd.concat([df, row])\n",
    "    #If using all scalar values, you must pass an index\n",
    "\n",
    "\n",
    "    return df\n",
    "\n",
    "\n",
    "\n",
    "if Carrito.id.isin([producto['id']]).any():\n",
    "    print ('2,3,...) sumamos 1 a Carrito.cantidad y se lo asignamos a producto.cantidad')\n",
    "    Carrito.loc[Carrito.id == producto['id'], 'cantidad'] += 1\n",
    "else:\n",
    "    print ('1) Agregamos la fila a Carrito')\n",
    "    Carrito = add_row(Carrito, producto)\n",
    "\n",
    "producto['cantidad'] = Carrito.loc[Carrito.id == producto['id'], 'cantidad'].values[0]\n",
    "\n",
    "display (Carrito)\n",
    "producto\n"
   ]
  }
 ],
 "metadata": {
  "kernelspec": {
   "display_name": "Python 3.10.2 64-bit",
   "language": "python",
   "name": "python3"
  },
  "language_info": {
   "codemirror_mode": {
    "name": "ipython",
    "version": 3
   },
   "file_extension": ".py",
   "mimetype": "text/x-python",
   "name": "python",
   "nbconvert_exporter": "python",
   "pygments_lexer": "ipython3",
   "version": "3.10.2"
  },
  "orig_nbformat": 4,
  "vscode": {
   "interpreter": {
    "hash": "4a8ad0719fb4c7e694a659c43e490ed667120cd373b1de1407c37b4b29da83d3"
   }
  }
 },
 "nbformat": 4,
 "nbformat_minor": 2
}
